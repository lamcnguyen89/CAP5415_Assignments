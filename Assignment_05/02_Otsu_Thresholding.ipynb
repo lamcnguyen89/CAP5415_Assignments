{
 "cells": [
  {
   "cell_type": "code",
   "execution_count": 85,
   "metadata": {},
   "outputs": [
    {
     "data": {
      "text/plain": [
       "'\\n In normal image binarization, we have to choose the threshold value manually. Often we have to test out multiple threshold values  to find the best one for the particular task. \\n\\n However with Otsu Thresholding, we can automate this search for the ideal threshold value. Otsu thresholding calcualtes an optimal threshold value that minimizes variance within a class between foreground and background pixels\\n\\n\\n'"
      ]
     },
     "execution_count": 85,
     "metadata": {},
     "output_type": "execute_result"
    }
   ],
   "source": [
    "\"\"\"\n",
    "Sources:\n",
    "\n",
    "Intro to Otsu Thresholding: https://learnopencv.com/otsu-thresholding-with-opencv/\n",
    "Otsu THresholding from Scratch: https://medium.com/geekculture/image-thresholding-from-scratch-a66ae0fb6f09\n",
    "\n",
    "\n",
    "\"\"\"\n",
    "\n",
    "\"\"\"\n",
    " In normal image binarization, we have to choose the threshold value manually. Often we have to test out multiple threshold values  to find the best one for the particular task. \n",
    "\n",
    " However with Otsu Thresholding, we can automate this search for the ideal threshold value. Otsu thresholding calcualtes an optimal threshold value that minimizes variance within a class between foreground and background pixels\n",
    "\n",
    "\n",
    "\"\"\""
   ]
  },
  {
   "cell_type": "code",
   "execution_count": 86,
   "metadata": {},
   "outputs": [],
   "source": [
    "from pathlib import Path\n",
    "import matplotlib.pyplot as plt\n",
    "import numpy as np\n",
    "from PIL import Image\n",
    "import os\n",
    "\n",
    "\n",
    "input_folder = \"Input_Images\""
   ]
  },
  {
   "cell_type": "code",
   "execution_count": 87,
   "metadata": {},
   "outputs": [],
   "source": [
    "def otsu(gray):\n",
    "    pixel_number = gray.shape[0] * gray.shape[1]\n",
    "    mean_weight = 1.0/pixel_number\n",
    "    his, bins = np.histogram(gray, np.arange(0,257))\n",
    "    final_thresh = -1\n",
    "    final_value = -1\n",
    "    intensity_arr = np.arange(256)\n",
    "    for t in bins[1:-1]: # This goes from 1 to 254 uint8 range (Pretty sure wont be those values)\n",
    "        pcb = np.sum(his[:t])\n",
    "        pcf = np.sum(his[t:])\n",
    "        Wb = pcb * mean_weight\n",
    "        Wf = pcf * mean_weight\n",
    "\n",
    "        mub = np.sum(intensity_arr[:t]*his[:t]) / float(pcb)\n",
    "        muf = np.sum(intensity_arr[t:]*his[t:]) / float(pcf)\n",
    "        #print mub, muf\n",
    "        value = Wb * Wf * (mub - muf) ** 2\n",
    "\n",
    "        if value > final_value:\n",
    "            final_thresh = t\n",
    "            final_value = value\n",
    "    final_img = gray.copy()\n",
    "    print(final_thresh)\n",
    "    final_img[gray > final_thresh] = 255\n",
    "    final_img[gray < final_thresh] = 0\n",
    "    return final_img\n"
   ]
  },
  {
   "cell_type": "code",
   "execution_count": null,
   "metadata": {},
   "outputs": [],
   "source": [
    "\n"
   ]
  },
  {
   "cell_type": "code",
   "execution_count": 88,
   "metadata": {},
   "outputs": [
    {
     "name": "stdout",
     "output_type": "stream",
     "text": [
      "Wooden_Interior\n",
      "106\n",
      "Wooden_Interior_04\n",
      "91\n",
      "Wooden_Interior_01\n",
      "103\n"
     ]
    }
   ],
   "source": [
    "# Loop through folder and generate binarize images\n",
    "\n",
    "input_images_array= Path(input_folder).glob('*.jpeg')\n",
    "\n",
    "for image in input_images_array:\n",
    "        # Load image, load the filename and convert the image to an array.\n",
    "        filename = os.path.basename(image).split('.',1)[0]\n",
    "        im = Image.open(image)\n",
    "        im = np.asarray(im)\n",
    "        print(f\"{filename}\")\n",
    "\n",
    "        im_filtered = otsu(gray=im)\n",
    "\n",
    "\n",
    "        \n",
    "        # Save the Edged X-Direction images into the folder directory named \"02_Gradient_Edge_Detection_X\"  \n",
    "        plt.imsave(f\"Output_Images/{filename}_otsu.png\",\n",
    "                im_filtered.astype(np.uint8),\n",
    "                cmap=plt.cm.Greys_r\n",
    "            )\n",
    "\n",
    "        \n",
    "\n",
    "\n",
    "        \n"
   ]
  }
 ],
 "metadata": {
  "kernelspec": {
   "display_name": "deeplearning",
   "language": "python",
   "name": "python3"
  },
  "language_info": {
   "codemirror_mode": {
    "name": "ipython",
    "version": 3
   },
   "file_extension": ".py",
   "mimetype": "text/x-python",
   "name": "python",
   "nbconvert_exporter": "python",
   "pygments_lexer": "ipython3",
   "version": "3.11.5"
  }
 },
 "nbformat": 4,
 "nbformat_minor": 2
}
