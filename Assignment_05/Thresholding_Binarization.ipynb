{
 "cells": [
  {
   "cell_type": "code",
   "execution_count": 33,
   "metadata": {},
   "outputs": [],
   "source": [
    "from pathlib import Path\n",
    "import matplotlib.pyplot as plt\n",
    "import numpy as np\n",
    "from PIL import Image\n",
    "import os\n",
    "\n",
    "\n",
    "input_folder = \"Input_Images\"\n",
    "threshold = 150"
   ]
  },
  {
   "cell_type": "code",
   "execution_count": 34,
   "metadata": {},
   "outputs": [],
   "source": [
    "def convert_binary(image_matrix, thresh_val):\n",
    "    white = 255\n",
    "    black = 0\n",
    "    \n",
    "    initial_conv = np.where((image_matrix <= thresh_val), image_matrix, white)\n",
    "    final_conv = np.where((initial_conv > thresh_val), initial_conv, black)\n",
    "    \n",
    "    return final_conv"
   ]
  },
  {
   "cell_type": "code",
   "execution_count": 35,
   "metadata": {},
   "outputs": [],
   "source": [
    "\n",
    "def binarize_image(image, thresh_val=127, with_plot=False, gray_scale=False):\n",
    "\n",
    "    im=image\n",
    "    \n",
    "    if not gray_scale:\n",
    "        cmap_val = None\n",
    "        r_img, g_img, b_img = im[:, :, 0], im[:, :, 1], im[:, :, 2]\n",
    "        \n",
    "        r_b = convert_binary(image_matrix=r_img, thresh_val=thresh_val)\n",
    "        g_b = convert_binary(image_matrix=g_img, thresh_val=thresh_val)\n",
    "        b_b = convert_binary(image_matrix=b_img, thresh_val=thresh_val)\n",
    "        \n",
    "        image_b = np.dstack(tup=(r_b, g_b, b_b))\n",
    "    else:\n",
    "        cmap_val = 'gray'\n",
    "        image_b = convert_binary(image_matrix=im, thresh_val=thresh_val)\n",
    "    \n",
    "    if with_plot:\n",
    "        fig, (ax1, ax2) = plt.subplots(nrows=1, ncols=2, figsize=(10, 20))\n",
    "        \n",
    "        ax1.axis(\"off\")\n",
    "        ax1.title.set_text('Original')\n",
    "        \n",
    "        ax2.axis(\"off\")\n",
    "        ax2.title.set_text(\"Binarized\")\n",
    "        \n",
    "        ax1.imshow(im, cmap=cmap_val)\n",
    "        ax2.imshow(image_b, cmap=cmap_val)\n",
    "        return True\n",
    "    return image_b"
   ]
  },
  {
   "cell_type": "code",
   "execution_count": 36,
   "metadata": {},
   "outputs": [
    {
     "name": "stdout",
     "output_type": "stream",
     "text": [
      "Wooden_Interior\n",
      "Wooden_Interior_04\n",
      "Wooden_Interior_01\n"
     ]
    }
   ],
   "source": [
    "input_images_array= Path(input_folder).glob('*.jpeg')\n",
    "\n",
    "for image in input_images_array:\n",
    "        # Load image, load the filename and convert the image to an array.\n",
    "        filename = os.path.basename(image).split('.',1)[0]\n",
    "        im = Image.open(image)\n",
    "        im = np.asarray(im)\n",
    "        print(f\"{filename}\")\n",
    "\n",
    "        im_filtered = binarize_image(image=im,thresh_val=threshold)\n",
    "\n",
    "\n",
    "        \n",
    "        # Save the Edged X-Direction images into the folder directory named \"02_Gradient_Edge_Detection_X\"  \n",
    "        plt.imsave(f\"Output_Images/{filename}_binarized.png\",\n",
    "                im_filtered.astype(np.uint8),\n",
    "                cmap=plt.cm.Greys_r\n",
    "            )\n"
   ]
  }
 ],
 "metadata": {
  "kernelspec": {
   "display_name": "deeplearning",
   "language": "python",
   "name": "python3"
  },
  "language_info": {
   "codemirror_mode": {
    "name": "ipython",
    "version": 3
   },
   "file_extension": ".py",
   "mimetype": "text/x-python",
   "name": "python",
   "nbconvert_exporter": "python",
   "pygments_lexer": "ipython3",
   "version": "3.11.5"
  }
 },
 "nbformat": 4,
 "nbformat_minor": 2
}
