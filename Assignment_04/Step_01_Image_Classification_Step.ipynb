{
 "cells": [
  {
   "cell_type": "code",
   "execution_count": 13,
   "metadata": {},
   "outputs": [
    {
     "data": {
      "text/plain": [
       "'\\nDesign a CNN architecture which has more then 2 convolutional layers and more then 1 fully connected layers. It should make 10 predictions for the 10 classes of CIFAR-10.\\n\\n1. Train this network on CIFAR-10 for 30 epochs\\n2. Use Cross-Entropy Loss\\n3. SGD Optimizer\\n4. Softmax activation after the final fully connected layer.\\n5. Report Training/Testing Loss after each epoch in the form of plots and accuracy scores after 30 epochs.\\n\\n6. Finally, increase the number of conv layers in the above network and train again. Report the same numbers and plots again comparing with the first network.\\n\\n\\n'"
      ]
     },
     "execution_count": 13,
     "metadata": {},
     "output_type": "execute_result"
    }
   ],
   "source": [
    "# CAP 5415 Programming Assignment 04: Image Classification\n",
    "\n",
    "\"\"\"\n",
    "Design a CNN architecture which has more then 2 convolutional layers and more then 1 fully connected layers. It should make 10 predictions for the 10 classes of CIFAR-10.\n",
    "\n",
    "1. Train this network on CIFAR-10 for 30 epochs\n",
    "2. Use Cross-Entropy Loss\n",
    "3. SGD Optimizer\n",
    "4. Softmax activation after the final fully connected layer.\n",
    "5. Report Training/Testing Loss after each epoch in the form of plots and accuracy scores after 30 epochs.\n",
    "\n",
    "6. Finally, increase the number of conv layers in the above network and train again. Report the same numbers and plots again comparing with the first network.\n",
    "\n",
    "\n",
    "\"\"\"\n",
    "\n"
   ]
  },
  {
   "cell_type": "code",
   "execution_count": 14,
   "metadata": {},
   "outputs": [],
   "source": [
    "# =======================================================#\n",
    "# 1. Import basic Modules and Functions and set variables\n",
    "# =======================================================#\n",
    "\n",
    "import torch\n",
    "import torch.nn as nn # All the Neural network models, loss functions\n",
    "import torch.optim as optim # Optimization algorithms\n",
    "import torch.nn.functional as F # All functions without parameters\n",
    "from torch.utils.data import DataLoader # Easier dataset management such as minibatches\n",
    "import torchvision.datasets as datasets # Standard datasets that can be used as test training data\n",
    "import torchvision.transforms as transforms # Transformations that can be performed on the dataset\n",
    "from torchinfo import summary\n",
    "import matplotlib.pyplot as plt\n",
    "\n",
    "\n",
    "# Import some packages for logging training and showing progress\n",
    "from tqdm_loggable.auto import tqdm\n",
    "from tqdm_loggable.tqdm_logging import tqdm_logging\n",
    "import datetime\n",
    "import logging\n",
    "\n",
    "\n",
    "# Set up some basic logging to record traces of training\n",
    "logging.basicConfig(\n",
    "        level=logging.INFO,\n",
    "        format=\"%(asctime)s %(levelname)s %(message)s\",\n",
    "        datefmt=\"%Y-%m-%d %H:%M:%S\",\n",
    "        filename=\"output/Step_01_output.txt\" # Save log to a file\n",
    "    )\n",
    "\n",
    "tqdm_logging.set_level(logging.INFO)\n",
    "\n",
    "\n",
    "# Hyperparameters\n",
    "input_channels = 3\n",
    "hidden_size = 100\n",
    "num_classes= 10\n",
    "learning_rate = 0.01\n",
    "batch_size = 10\n",
    "num_epochs = 30\n",
    "    \n",
    "device = torch.device('cuda' if torch.cuda.is_available() else 'cpu')"
   ]
  },
  {
   "cell_type": "code",
   "execution_count": 24,
   "metadata": {},
   "outputs": [],
   "source": [
    "# =========================================#\n",
    "# 2. Create a Convolutional Neural Network:\n",
    "# =========================================#\n",
    "\n",
    "class NN_1(nn.Module):\n",
    "    def __init__(self,input_channels,hidden_size, num_classes):\n",
    "        super(NN_1, self).__init__() # The Super keyword calls the initialization of the parent class\n",
    "        \n",
    "        self.conv1 = nn.Conv2d(in_channels=input_channels,\n",
    "                               out_channels=40,\n",
    "                               kernel_size=(5,5),\n",
    "                               stride=(1,1),\n",
    "                               padding=(0,0)\n",
    "                               )\n",
    "        self.conv2 = nn.Conv2d(in_channels=40,\n",
    "                               out_channels=40,\n",
    "                               kernel_size=(5,5),\n",
    "                               stride=(1,1),\n",
    "                               padding=(0,0)\n",
    "                               )\n",
    "        self.pool = nn.MaxPool2d(kernel_size=(2,2),\n",
    "                                  stride=(2,2)\n",
    "        ) \n",
    "        self.fc1 = nn.Linear(40*5*5, hidden_size) \n",
    "        self.fc2 = nn.Linear(hidden_size, num_classes)\n",
    "\n",
    "    def num_flat_features(self,x):\n",
    "        size = x.size()[1:] # all dimensions except batch dimension\n",
    "        num_features = 1\n",
    "        for s in size:\n",
    "            num_features *=s\n",
    "\n",
    "        return num_features\n",
    "\n",
    "    def forward(self, x):\n",
    "        x = F.sigmoid(self.conv1(x))\n",
    "        x = self.pool(x)\n",
    "        x = F.sigmoid(self.conv2(x))\n",
    "        x = self.pool(x)\n",
    "        x = x.view(-1,self.num_flat_features(x))\n",
    "        x = F.sigmoid(self.fc1(x))\n",
    "        x = self.fc2(x)\n",
    "\n",
    "        return x"
   ]
  },
  {
   "cell_type": "code",
   "execution_count": 25,
   "metadata": {},
   "outputs": [
    {
     "name": "stdout",
     "output_type": "stream",
     "text": [
      "Files already downloaded and verified\n",
      "Files already downloaded and verified\n"
     ]
    }
   ],
   "source": [
    "# =======================================================#\n",
    "# 3. Load and prepare dataset:\n",
    "# =======================================================#\n",
    "\n",
    "train_dataset = datasets.CIFAR10(root='dataset/', \n",
    "               train=True, \n",
    "               transform=transforms.ToTensor(),\n",
    "               download=True\n",
    "               )#Transforms transforms numpy array to tensors so that pytorch can use the data\n",
    "\n",
    "\n",
    "train_loader = DataLoader(\n",
    "    dataset = train_dataset,\n",
    "    batch_size = batch_size,\n",
    "    shuffle = True\n",
    ")\n",
    "\n",
    "test_dataset = datasets.CIFAR10(root='dataset/', \n",
    "               train=False, \n",
    "               transform=transforms.ToTensor(),\n",
    "               download=True\n",
    "               )#Transforms transforms numpy array to tensors so that pytorch can use the data\n",
    "\n",
    "test_loader = DataLoader(\n",
    "    dataset= test_dataset,\n",
    "    batch_size = batch_size,\n",
    "    shuffle = True\n",
    ")\n"
   ]
  },
  {
   "cell_type": "code",
   "execution_count": 26,
   "metadata": {},
   "outputs": [],
   "source": [
    "# =======================================================#\n",
    "# 4. Define Accuracy Function:\n",
    "# =======================================================#\n",
    "\n",
    "def check_accuracy(loader, model):\n",
    "    if loader.dataset.train:\n",
    "        print(\"Checking accuracy on training data\")\n",
    "        logging.info(\"Checking accuracy on training data\")\n",
    "    else:\n",
    "        print(\"Checking accuracy on test data\")\n",
    "        logging.info(\"Checking accuracy on test data\")\n",
    "    num_correct = 0\n",
    "    num_samples = 0\n",
    "    model.eval()\n",
    "\n",
    "    with torch.no_grad(): # No gradients have to be calculated\n",
    "        for x, y in loader:\n",
    "            x = x.to(device=device)\n",
    "            y = y.to(device=device)\n",
    "\n",
    "            scores = model(x)\n",
    "            _,predictions = scores.max(1)\n",
    "            num_correct += (predictions == y).sum()\n",
    "            num_samples += predictions.size(0)\n",
    "\n",
    "        print(f'Got {num_correct} / {num_samples} with accuracy {float(num_correct)/float(num_samples) * 100:.2f}')\n",
    "        logging.info(f'Got {num_correct} / {num_samples} with accuracy {float(num_correct)/float(num_samples) * 100:.2f}')\n",
    "\n",
    "    model.train()\n",
    "    acc = float(num_correct)/float(num_samples)\n",
    "    return acc"
   ]
  },
  {
   "cell_type": "code",
   "execution_count": 27,
   "metadata": {},
   "outputs": [
    {
     "name": "stdout",
     "output_type": "stream",
     "text": [
      "Step 1/2 Training Epoch 1/30\n"
     ]
    },
    {
     "name": "stderr",
     "output_type": "stream",
     "text": [
      "100%|██████████| 5000/5000 [00:16<00:00, 300.53it/s]\n"
     ]
    },
    {
     "name": "stdout",
     "output_type": "stream",
     "text": [
      "Checking accuracy on training data\n",
      "Got 5000 / 50000 with accuracy 10.00\n",
      "Step 1/2 Training Epoch 2/30\n"
     ]
    },
    {
     "name": "stderr",
     "output_type": "stream",
     "text": [
      "100%|██████████| 5000/5000 [00:17<00:00, 292.95it/s]\n"
     ]
    },
    {
     "name": "stdout",
     "output_type": "stream",
     "text": [
      "Checking accuracy on training data\n",
      "Got 5000 / 50000 with accuracy 10.00\n",
      "Step 1/2 Training Epoch 3/30\n"
     ]
    },
    {
     "name": "stderr",
     "output_type": "stream",
     "text": [
      "100%|██████████| 5000/5000 [00:20<00:00, 245.12it/s]\n"
     ]
    },
    {
     "name": "stdout",
     "output_type": "stream",
     "text": [
      "Checking accuracy on training data\n",
      "Got 5000 / 50000 with accuracy 10.00\n",
      "Step 1/2 Training Epoch 4/30\n"
     ]
    },
    {
     "name": "stderr",
     "output_type": "stream",
     "text": [
      "100%|██████████| 5000/5000 [00:20<00:00, 245.91it/s]\n"
     ]
    },
    {
     "name": "stdout",
     "output_type": "stream",
     "text": [
      "Checking accuracy on training data\n",
      "Got 9865 / 50000 with accuracy 19.73\n",
      "Step 1/2 Training Epoch 5/30\n"
     ]
    },
    {
     "name": "stderr",
     "output_type": "stream",
     "text": [
      "100%|██████████| 5000/5000 [00:20<00:00, 246.31it/s]\n"
     ]
    },
    {
     "name": "stdout",
     "output_type": "stream",
     "text": [
      "Checking accuracy on training data\n",
      "Got 11554 / 50000 with accuracy 23.11\n",
      "Step 1/2 Training Epoch 6/30\n"
     ]
    },
    {
     "name": "stderr",
     "output_type": "stream",
     "text": [
      "100%|██████████| 5000/5000 [00:20<00:00, 247.68it/s]\n"
     ]
    },
    {
     "name": "stdout",
     "output_type": "stream",
     "text": [
      "Checking accuracy on training data\n",
      "Got 12036 / 50000 with accuracy 24.07\n",
      "Step 1/2 Training Epoch 7/30\n"
     ]
    },
    {
     "name": "stderr",
     "output_type": "stream",
     "text": [
      "100%|██████████| 5000/5000 [00:20<00:00, 246.77it/s]\n"
     ]
    },
    {
     "name": "stdout",
     "output_type": "stream",
     "text": [
      "Checking accuracy on training data\n",
      "Got 13353 / 50000 with accuracy 26.71\n",
      "Step 1/2 Training Epoch 8/30\n"
     ]
    },
    {
     "name": "stderr",
     "output_type": "stream",
     "text": [
      "100%|██████████| 5000/5000 [00:20<00:00, 246.95it/s]\n"
     ]
    },
    {
     "name": "stdout",
     "output_type": "stream",
     "text": [
      "Checking accuracy on training data\n",
      "Got 14422 / 50000 with accuracy 28.84\n",
      "Step 1/2 Training Epoch 9/30\n"
     ]
    },
    {
     "name": "stderr",
     "output_type": "stream",
     "text": [
      "100%|██████████| 5000/5000 [00:19<00:00, 253.33it/s]\n"
     ]
    },
    {
     "name": "stdout",
     "output_type": "stream",
     "text": [
      "Checking accuracy on training data\n",
      "Got 15542 / 50000 with accuracy 31.08\n",
      "Step 1/2 Training Epoch 10/30\n"
     ]
    },
    {
     "name": "stderr",
     "output_type": "stream",
     "text": [
      "100%|██████████| 5000/5000 [00:18<00:00, 269.31it/s]\n"
     ]
    },
    {
     "name": "stdout",
     "output_type": "stream",
     "text": [
      "Checking accuracy on training data\n",
      "Got 17280 / 50000 with accuracy 34.56\n",
      "Step 1/2 Training Epoch 11/30\n"
     ]
    },
    {
     "name": "stderr",
     "output_type": "stream",
     "text": [
      "100%|██████████| 5000/5000 [00:18<00:00, 265.30it/s]\n"
     ]
    },
    {
     "name": "stdout",
     "output_type": "stream",
     "text": [
      "Checking accuracy on training data\n",
      "Got 18648 / 50000 with accuracy 37.30\n",
      "Step 1/2 Training Epoch 12/30\n"
     ]
    },
    {
     "name": "stderr",
     "output_type": "stream",
     "text": [
      "100%|██████████| 5000/5000 [00:17<00:00, 280.55it/s]\n"
     ]
    },
    {
     "name": "stdout",
     "output_type": "stream",
     "text": [
      "Checking accuracy on training data\n",
      "Got 18846 / 50000 with accuracy 37.69\n",
      "Step 1/2 Training Epoch 13/30\n"
     ]
    },
    {
     "name": "stderr",
     "output_type": "stream",
     "text": [
      "100%|██████████| 5000/5000 [00:20<00:00, 249.60it/s]\n"
     ]
    },
    {
     "name": "stdout",
     "output_type": "stream",
     "text": [
      "Checking accuracy on training data\n",
      "Got 20457 / 50000 with accuracy 40.91\n",
      "Step 1/2 Training Epoch 14/30\n"
     ]
    },
    {
     "name": "stderr",
     "output_type": "stream",
     "text": [
      "100%|██████████| 5000/5000 [00:19<00:00, 252.59it/s]\n"
     ]
    },
    {
     "name": "stdout",
     "output_type": "stream",
     "text": [
      "Checking accuracy on training data\n",
      "Got 20905 / 50000 with accuracy 41.81\n",
      "Step 1/2 Training Epoch 15/30\n"
     ]
    },
    {
     "name": "stderr",
     "output_type": "stream",
     "text": [
      "100%|██████████| 5000/5000 [00:18<00:00, 267.62it/s]\n"
     ]
    },
    {
     "name": "stdout",
     "output_type": "stream",
     "text": [
      "Checking accuracy on training data\n",
      "Got 21867 / 50000 with accuracy 43.73\n",
      "Step 1/2 Training Epoch 16/30\n"
     ]
    },
    {
     "name": "stderr",
     "output_type": "stream",
     "text": [
      "100%|██████████| 5000/5000 [00:20<00:00, 248.01it/s]\n"
     ]
    },
    {
     "name": "stdout",
     "output_type": "stream",
     "text": [
      "Checking accuracy on training data\n",
      "Got 22471 / 50000 with accuracy 44.94\n",
      "Step 1/2 Training Epoch 17/30\n"
     ]
    },
    {
     "name": "stderr",
     "output_type": "stream",
     "text": [
      "100%|██████████| 5000/5000 [00:20<00:00, 249.03it/s]\n"
     ]
    },
    {
     "name": "stdout",
     "output_type": "stream",
     "text": [
      "Checking accuracy on training data\n",
      "Got 23282 / 50000 with accuracy 46.56\n",
      "Step 1/2 Training Epoch 18/30\n"
     ]
    },
    {
     "name": "stderr",
     "output_type": "stream",
     "text": [
      "100%|██████████| 5000/5000 [00:20<00:00, 247.66it/s]\n"
     ]
    },
    {
     "name": "stdout",
     "output_type": "stream",
     "text": [
      "Checking accuracy on training data\n",
      "Got 23509 / 50000 with accuracy 47.02\n",
      "Step 1/2 Training Epoch 19/30\n"
     ]
    },
    {
     "name": "stderr",
     "output_type": "stream",
     "text": [
      "100%|██████████| 5000/5000 [00:19<00:00, 262.77it/s]\n"
     ]
    },
    {
     "name": "stdout",
     "output_type": "stream",
     "text": [
      "Checking accuracy on training data\n",
      "Got 23556 / 50000 with accuracy 47.11\n",
      "Step 1/2 Training Epoch 20/30\n"
     ]
    },
    {
     "name": "stderr",
     "output_type": "stream",
     "text": [
      "100%|██████████| 5000/5000 [00:20<00:00, 244.72it/s]\n"
     ]
    },
    {
     "name": "stdout",
     "output_type": "stream",
     "text": [
      "Checking accuracy on training data\n",
      "Got 25221 / 50000 with accuracy 50.44\n",
      "Step 1/2 Training Epoch 21/30\n"
     ]
    },
    {
     "name": "stderr",
     "output_type": "stream",
     "text": [
      "100%|██████████| 5000/5000 [00:20<00:00, 245.10it/s]\n"
     ]
    },
    {
     "name": "stdout",
     "output_type": "stream",
     "text": [
      "Checking accuracy on training data\n",
      "Got 25417 / 50000 with accuracy 50.83\n",
      "Step 1/2 Training Epoch 22/30\n"
     ]
    },
    {
     "name": "stderr",
     "output_type": "stream",
     "text": [
      "100%|██████████| 5000/5000 [00:20<00:00, 247.74it/s]\n"
     ]
    },
    {
     "name": "stdout",
     "output_type": "stream",
     "text": [
      "Checking accuracy on training data\n",
      "Got 25950 / 50000 with accuracy 51.90\n",
      "Step 1/2 Training Epoch 23/30\n"
     ]
    },
    {
     "name": "stderr",
     "output_type": "stream",
     "text": [
      "100%|██████████| 5000/5000 [00:20<00:00, 248.16it/s]\n"
     ]
    },
    {
     "name": "stdout",
     "output_type": "stream",
     "text": [
      "Checking accuracy on training data\n",
      "Got 26421 / 50000 with accuracy 52.84\n",
      "Step 1/2 Training Epoch 24/30\n"
     ]
    },
    {
     "name": "stderr",
     "output_type": "stream",
     "text": [
      "100%|██████████| 5000/5000 [00:20<00:00, 248.99it/s]\n"
     ]
    },
    {
     "name": "stdout",
     "output_type": "stream",
     "text": [
      "Checking accuracy on training data\n",
      "Got 27097 / 50000 with accuracy 54.19\n",
      "Step 1/2 Training Epoch 25/30\n"
     ]
    },
    {
     "name": "stderr",
     "output_type": "stream",
     "text": [
      "100%|██████████| 5000/5000 [00:20<00:00, 248.66it/s]\n"
     ]
    },
    {
     "name": "stdout",
     "output_type": "stream",
     "text": [
      "Checking accuracy on training data\n",
      "Got 26807 / 50000 with accuracy 53.61\n",
      "Step 1/2 Training Epoch 26/30\n"
     ]
    },
    {
     "name": "stderr",
     "output_type": "stream",
     "text": [
      "100%|██████████| 5000/5000 [00:20<00:00, 248.45it/s]\n"
     ]
    },
    {
     "name": "stdout",
     "output_type": "stream",
     "text": [
      "Checking accuracy on training data\n",
      "Got 27826 / 50000 with accuracy 55.65\n",
      "Step 1/2 Training Epoch 27/30\n"
     ]
    },
    {
     "name": "stderr",
     "output_type": "stream",
     "text": [
      "100%|██████████| 5000/5000 [00:19<00:00, 250.06it/s]\n"
     ]
    },
    {
     "name": "stdout",
     "output_type": "stream",
     "text": [
      "Checking accuracy on training data\n",
      "Got 28205 / 50000 with accuracy 56.41\n",
      "Step 1/2 Training Epoch 28/30\n"
     ]
    },
    {
     "name": "stderr",
     "output_type": "stream",
     "text": [
      "100%|██████████| 5000/5000 [00:20<00:00, 249.05it/s]\n"
     ]
    },
    {
     "name": "stdout",
     "output_type": "stream",
     "text": [
      "Checking accuracy on training data\n",
      "Got 28383 / 50000 with accuracy 56.77\n",
      "Step 1/2 Training Epoch 29/30\n"
     ]
    },
    {
     "name": "stderr",
     "output_type": "stream",
     "text": [
      "100%|██████████| 5000/5000 [00:20<00:00, 249.47it/s]\n"
     ]
    },
    {
     "name": "stdout",
     "output_type": "stream",
     "text": [
      "Checking accuracy on training data\n",
      "Got 29173 / 50000 with accuracy 58.35\n",
      "Step 1/2 Training Epoch 30/30\n"
     ]
    },
    {
     "name": "stderr",
     "output_type": "stream",
     "text": [
      "100%|██████████| 5000/5000 [00:20<00:00, 248.21it/s]"
     ]
    },
    {
     "name": "stdout",
     "output_type": "stream",
     "text": [
      "Model Accuracy: [0.1, 0.1, 0.1, 0.1973, 0.23108, 0.24072, 0.26706, 0.28844, 0.31084, 0.3456, 0.37296, 0.37692, 0.40914, 0.4181, 0.43734, 0.44942, 0.46564, 0.47018, 0.47112, 0.50442, 0.50834, 0.519, 0.52842, 0.54194, 0.53614, 0.55652, 0.5641, 0.56766, 0.58346]\n",
      "Model Loss: [2.2724, 2.293, 2.2888, 2.0741, 2.0289, 2.0879, 2.0473, 1.6824, 1.8146, 1.7031, 1.5926, 1.416, 1.2708, 1.6907, 1.3431, 1.6088, 1.9717, 1.5147, 1.4986, 1.0917, 1.2965, 2.1748, 1.1698, 1.7418, 1.6476, 0.5108, 0.9249, 0.9268, 0.8072]\n"
     ]
    },
    {
     "name": "stderr",
     "output_type": "stream",
     "text": [
      "\n"
     ]
    }
   ],
   "source": [
    "# =======================================================#\n",
    "# 5. Train the Convolutional Neural Network:\n",
    "# =======================================================#\n",
    "\n",
    "\n",
    "\n",
    "#Initialize Model\n",
    "model = NN_1(\n",
    "    input_channels=input_channels,\n",
    "    hidden_size=hidden_size,\n",
    "    num_classes=num_classes\n",
    ").to(device)\n",
    "\n",
    "logging.info(f\"Begin Training CIFAR-10 dataset with this model: {model}\")\n",
    "\n",
    "# Define the loss function and Optimizer\n",
    "criterion = nn.CrossEntropyLoss()\n",
    "optimizer = optim.SGD(model.parameters(), \n",
    "                      lr=learning_rate)\n",
    "\n",
    "# Set Some state variables\n",
    "epoch_counter= 0\n",
    "current_loss = 1\n",
    "current_accuracy = 1\n",
    "model_accuracy = []\n",
    "model_loss = []\n",
    "\n",
    "\n",
    "# Train Network\n",
    "for epoch in range(num_epochs):\n",
    "    if epoch > 0:\n",
    "        current_accuracy = check_accuracy(train_loader,model)\n",
    "        model_accuracy.append(current_accuracy)\n",
    "        model_loss.append(round(current_loss, 4))\n",
    "    tqdm.write(f\"Step 1/2 Training Epoch {epoch+1}/{num_epochs}\")\n",
    "    # store points for for plotting the accuracy and loss:\n",
    "    for batch_idx, (data, targets) in enumerate(tqdm(train_loader)):\n",
    "\n",
    "        \n",
    "        # Get data to Cuda/gpu if possible\n",
    "        data = data.to(device=device)\n",
    "        targets = targets = targets.to(device=device)\n",
    "    \n",
    "        # Forward\n",
    "        scores = model(data)\n",
    "        loss = criterion(scores, targets)\n",
    "\n",
    "        # Go Backward in the network:\n",
    "        optimizer.zero_grad()\n",
    "        loss.backward()\n",
    "\n",
    "        # Gradient descent or adam step\n",
    "        optimizer.step()\n",
    "\n",
    "        current_loss = loss.item()\n",
    "        # logging.info(\"Training single layer Neural Network \")\n",
    "        if epoch > epoch_counter+4:\n",
    "            logging.info(f\"Training Epoch: {epoch}, loss = {loss.item():.4f}\")\n",
    "\n",
    "            epoch_counter = epoch\n",
    "\n",
    "\n",
    "epoch_counter = 0\n",
    "\n",
    "print(f'Model Accuracy: {model_accuracy}')\n",
    "print(f'Model Loss: {model_loss}')\n",
    "\n",
    "# Save the trained model\n",
    "torch.save(model.state_dict(),'trained_models/Classifier_01.pth')"
   ]
  },
  {
   "cell_type": "code",
   "execution_count": 28,
   "metadata": {},
   "outputs": [
    {
     "data": {
      "image/png": "[encoded data removed]",
      "text/plain": [
       "<Figure size 640x480 with 1 Axes>"
      ]
     },
     "metadata": {},
     "output_type": "display_data"
    },
    {
     "data": {
      "image/png": "[encoded data removed]",
      "text/plain": [
       "<Figure size 640x480 with 1 Axes>"
      ]
     },
     "metadata": {},
     "output_type": "display_data"
    }
   ],
   "source": [
    "# =========================================================================================================#\n",
    "# 7. Graph Training/Testing Loss after each epoch in the form of plots and accuracy scores after 30 epochs:\n",
    "# =========================================================================================================#\n",
    "\n",
    "epoch_list = []\n",
    "\n",
    "for i in range(len(model_accuracy)):\n",
    "    epoch_list.append(i)\n",
    "\n",
    "# Plot Accuracy\n",
    "plt.plot(epoch_list, model_accuracy)\n",
    "plt.title(\"Training Accuracy Change over Epochs\")\n",
    "plt.ylabel(\"Accuracy\")\n",
    "plt.xlabel(\"Epoch\")\n",
    "plt.show()\n",
    "\n",
    "# Plot Loss\n",
    "plt.plot(epoch_list, model_loss)\n",
    "plt.title(\"Training Loss Change over Epochs\")\n",
    "plt.ylabel(\"Loss\")\n",
    "plt.xlabel(\"Epoch\")\n",
    "plt.show()\n",
    "\n",
    "\n"
   ]
  }
 ],
 "metadata": {
  "kernelspec": {
   "display_name": "deeplearning",
   "language": "python",
   "name": "python3"
  },
  "language_info": {
   "codemirror_mode": {
    "name": "ipython",
    "version": 3
   },
   "file_extension": ".py",
   "mimetype": "text/x-python",
   "name": "python",
   "nbconvert_exporter": "python",
   "pygments_lexer": "ipython3",
   "version": "3.11.5"
  }
 },
 "nbformat": 4,
 "nbformat_minor": 2
}
