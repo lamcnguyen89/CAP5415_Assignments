{
 "cells": [
  {
   "cell_type": "code",
   "execution_count": 10,
   "metadata": {},
   "outputs": [
    {
     "data": {
      "text/plain": [
       "'\\nDue Date: 1ONov2023\\nAuthor: Lam Nguyen\\n\\nSubject: Nearest Neighbor Classification [2.5 pts]\\n\\nOverview:\\n\\nImplement the Nearest Neighbor Classifier for digit classification. We will use the digit dataset available from the sklearn library. \\n\\nTasks:\\n\\n1. Import and process the dataset.\\n    a. There are around 1800 images \\n    b. 10 digit classes\\n    c. Each image is 8x8 single channel.\\n    d. Split the dataset into training and testing, keep 500 images for testing\\n        i. Choose randomly with 50 images per class\\n\\n2. Implement Neighbor Classification using pixels as features. Test the method for classification accuracy.\\n\\n3. Implement a k-nearest neighbor classifier using pixels as features.\\n    a. Test method for k=3,5, and 7 and compute classification accuracy.\\n\\n4. Create a short writeup about implementation with results:\\n    1. Accuracy scores for all the variations\\n    2. Compare the variations using accuracy scores.\\n    3. Comment of how the accuracy changes when you increase the value of k\\n\\nNote: You can use L2-Norm for distance between 2 samples.\\n        \\n\\nSources:\\n\\nTrain Test Split: https://www.geeksforgeeks.org/how-to-split-the-dataset-with-scikit-learns-train_test_split-function/\\nK-Nearest Neighbors: https://www.youtube.com/watch?v=ngLyX54e1LU\\n\\n'"
      ]
     },
     "execution_count": 10,
     "metadata": {},
     "output_type": "execute_result"
    }
   ],
   "source": [
    "# CAP 5415 Programming Assignment 03: Nearest Neighbor Classification\n",
    "\n",
    "\"\"\"\n",
    "Due Date: 1ONov2023\n",
    "Author: Lam Nguyen\n",
    "\n",
    "Subject: Nearest Neighbor Classification [2.5 pts]\n",
    "\n",
    "Overview:\n",
    "\n",
    "Implement the Nearest Neighbor Classifier for digit classification. We will use the digit dataset available from the sklearn library. \n",
    "\n",
    "Tasks:\n",
    "\n",
    "1. Import and process the dataset.\n",
    "    a. There are around 1800 images \n",
    "    b. 10 digit classes\n",
    "    c. Each image is 8x8 single channel.\n",
    "    d. Split the dataset into training and testing, keep 500 images for testing\n",
    "        i. Choose randomly with 50 images per class\n",
    "\n",
    "2. Implement Neighbor Classification using pixels as features. Test the method for classification accuracy.\n",
    "\n",
    "3. Implement a k-nearest neighbor classifier using pixels as features.\n",
    "    a. Test method for k=3,5, and 7 and compute classification accuracy.\n",
    "\n",
    "4. Create a short writeup about implementation with results:\n",
    "    1. Accuracy scores for all the variations\n",
    "    2. Compare the variations using accuracy scores.\n",
    "    3. Comment of how the accuracy changes when you increase the value of k\n",
    "\n",
    "Note: You can use L2-Norm for distance between 2 samples.\n",
    "        \n",
    "\n",
    "Sources:\n",
    "\n",
    "Train Test Split: https://www.geeksforgeeks.org/how-to-split-the-dataset-with-scikit-learns-train_test_split-function/\n",
    "K-Nearest Neighbors: https://www.youtube.com/watch?v=ngLyX54e1LU\n",
    "\n",
    "\"\"\""
   ]
  },
  {
   "cell_type": "code",
   "execution_count": 11,
   "metadata": {},
   "outputs": [],
   "source": [
    "# ========================================================================================#\n",
    "# 1. Load Modules\n",
    "# ========================================================================================#\n",
    "\n",
    "from sklearn.datasets import load_digits\n",
    "from sklearn.model_selection import train_test_split\n",
    "import numpy as np\n",
    "from collections import Counter\n",
    "\n",
    "\n",
    "def euclidean_distance(x1, x2):\n",
    "    return np.sqrt(np.sum((x1-x2)**2))\n"
   ]
  },
  {
   "cell_type": "code",
   "execution_count": 12,
   "metadata": {},
   "outputs": [],
   "source": [
    "# ========================================================================================#\n",
    "# 2. Load and Process Data\n",
    "# ========================================================================================#\n",
    "\n",
    "\n",
    "digits = load_digits() # Create instance of dataset\n",
    "\n",
    "image_data = digits.data # Create instance of data arrays without labels\n",
    "image_targets = digits.target # Create instance of data labels\n",
    "\n",
    "\n",
    "# Split data into Training and test groups\n",
    "train_features,test_features, train_labels,test_labels = train_test_split(\n",
    "image_data, image_targets, test_size=500, random_state=42\n",
    ")\n",
    "\n",
    "\n",
    "\n"
   ]
  },
  {
   "cell_type": "code",
   "execution_count": 13,
   "metadata": {},
   "outputs": [],
   "source": [
    "# ========================================================================================#\n",
    "# 3. Create K-Nearest Neighbors Classifier\n",
    "# ========================================================================================#\n",
    "\n",
    "class K_Nearest_Neighbors:\n",
    "    \n",
    "    def __init__(self, k):\n",
    "        self.k = k\n",
    "\n",
    "\n",
    "    # Used for the training Method\n",
    "    def fit(self, features,labels):\n",
    "        self.train_features = features\n",
    "        self.train_labels = labels\n",
    "\n",
    "    # For predicting new samples\n",
    "    def predict(self, features):\n",
    "        # Can receive multiple samples\n",
    "        predicted_labels = [self._predict(x) for x in features ] # Input single value x into predict from the array called features using list comprehension\n",
    "        return np.array(predicted_labels)\n",
    "\n",
    "\n",
    "    \n",
    "    def _predict(self,x):\n",
    "        # Compute Distances of nearby points from the test point\n",
    "        # Compute the distance of 1 new sample x with all the k-nearest training samples using list comprehension\n",
    "        distances = [euclidean_distance(x, features) for features in self.train_features]\n",
    "\n",
    "        # Now that we have all the distances, now we get k-nearest samples and labels.\n",
    "        # We have to sort our distances\n",
    "        k_sorted_indices = np.argsort(distances)[:self.k]\n",
    "        k_nearest_labels = [self.train_labels[i] for i in k_sorted_indices]\n",
    "\n",
    "        # Get majority vote, get the most common class label\n",
    "        most_common = Counter(k_nearest_labels).most_common(1) # Get the first most common item. Returns the item in the list as well as the number of times that item has appeared.\n",
    "\n",
    "        return most_common[0][0] # Only want to return the label, and not the number of times the label has appeared. The most_common function also returns the number of times the label has appeared.\n",
    "\n",
    "\n",
    "\n",
    "\n",
    "\n",
    "\n"
   ]
  },
  {
   "cell_type": "code",
   "execution_count": 16,
   "metadata": {},
   "outputs": [
    {
     "name": "stdout",
     "output_type": "stream",
     "text": [
      "Accuracy with a k value of 1: 0.984\n",
      "Accuracy with a k value of 3: 0.99\n",
      "Accuracy with a k value of 5: 0.992\n",
      "Accuracy with a k value of 7: 0.992\n"
     ]
    }
   ],
   "source": [
    "# ========================================================================================#\n",
    "# 4. Implement and test accuracy \n",
    "# ========================================================================================#\n",
    "\n",
    "# Different K Values. Note that using K=1 is the implementing the Nearest Neighbor Classifier  as specified in the assignment.\n",
    "\n",
    "# The only difference between the K-Nearest Neighbors and Nearest Neighbor is that the Nearest Neighbor Classifier only uses one neighbor (k=1) for comparison, versus K-Nearest neighbors use multiple nearest values as specified by k.\n",
    "k=[1,3,5,7]\n",
    "\n",
    "for value in k:\n",
    "\n",
    "    model = K_Nearest_Neighbors(k=value)\n",
    "    model.fit(train_features,train_labels)\n",
    "    prediction = model.predict(test_features)\n",
    "    accuracy = np.sum(prediction == test_labels) / len(test_labels)\n",
    "    print(f'Accuracy with a k value of {value}: {accuracy}')\n"
   ]
  }
 ],
 "metadata": {
  "kernelspec": {
   "display_name": "deeplearning",
   "language": "python",
   "name": "python3"
  },
  "language_info": {
   "codemirror_mode": {
    "name": "ipython",
    "version": 3
   },
   "file_extension": ".py",
   "mimetype": "text/x-python",
   "name": "python",
   "nbconvert_exporter": "python",
   "pygments_lexer": "ipython3",
   "version": "3.11.5"
  }
 },
 "nbformat": 4,
 "nbformat_minor": 2
}
